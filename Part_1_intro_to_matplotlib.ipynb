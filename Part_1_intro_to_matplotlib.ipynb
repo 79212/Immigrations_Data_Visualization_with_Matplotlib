{
  "nbformat": 4,
  "nbformat_minor": 0,
  "metadata": {
    "colab": {
      "name": "1.intro_to_matplotlib.ipynb",
      "provenance": [],
      "authorship_tag": "ABX9TyPm4bBRpe5N6jzjiHfv5OGi",
      "include_colab_link": true
    },
    "kernelspec": {
      "name": "python3",
      "display_name": "Python 3"
    }
  },
  "cells": [
    {
      "cell_type": "markdown",
      "metadata": {
        "id": "view-in-github",
        "colab_type": "text"
      },
      "source": [
        "<a href=\"https://colab.research.google.com/github/Lawrence-Krukrubo/Effective_Plotting_with_Matplotlib/blob/master/1_intro_to_matplotlib.ipynb\" target=\"_parent\"><img src=\"https://colab.research.google.com/assets/colab-badge.svg\" alt=\"Open In Colab\"/></a>"
      ]
    },
    {
      "cell_type": "code",
      "metadata": {
        "id": "z7azKVgL7vG2",
        "colab_type": "code",
        "colab": {
          "base_uri": "https://localhost:8080/",
          "height": 68
        },
        "outputId": "639a4ed7-dd26-41b4-9eed-78584086b7f1"
      },
      "source": [
        "%%html\n",
        "<marquee style='width: 60%;'><h2><b>The aim of Data Visualization is to analyse and communicate Data insights, In a more effective, attractive and impactive way</b></h2></marquee>"
      ],
      "execution_count": 5,
      "outputs": [
        {
          "output_type": "display_data",
          "data": {
            "text/html": [
              "<marquee style='width: 60%;'><h2><b>The aim of Data Visualization is to analyse and communicate Data insights, In a more effective, attractive and impactive way</b></h2></marquee>"
            ],
            "text/plain": [
              "<IPython.core.display.HTML object>"
            ]
          },
          "metadata": {
            "tags": []
          }
        }
      ]
    },
    {
      "cell_type": "markdown",
      "metadata": {
        "id": "e5tLBhob-Y86",
        "colab_type": "text"
      },
      "source": [
        "<h1>Intro to Matplotlib</h1>"
      ]
    },
    {
      "cell_type": "markdown",
      "metadata": {
        "id": "PkELmpTX8knm",
        "colab_type": "text"
      },
      "source": [
        "<h3><b>Matplotlib History:</b></h3>\n",
        "\n",
        "Matplotlib is the most widely used if not the most popular data visualizing library in Python.\n",
        "It was created by John Hunter(1968 - 2012). Who was a neurobiologist and was part of a reseach Team that was analyzing electrocorticography(ECOG) signals.\n",
        "The Team was using a proprietary software for the analysis, however they only had one license, and so were taking turns in using it.\n",
        "So in order to overcome this limitation, john set out to replace this proprietary software with a MATLAB based version that could be utilized by him and his Team mates and that could be extended by multiple investigators.\n",
        "As a result, matplotlib was originally developed as an ECOG visualization tool. And just like MATLAB, matplotlib was equipped with a scripting interface quick and easy generation of graphics, represented by pyplot."
      ]
    },
    {
      "cell_type": "markdown",
      "metadata": {
        "id": "wJtT7A1t-r0z",
        "colab_type": "text"
      },
      "source": [
        "<h3><b>Matplotlib Architecture:</b></h3>\n",
        "This is composed of 3 main layers:-<br>\n",
        "\n",
        "1. The Back - End Layer- FigureCanvas, Renderer, Event.\n",
        "2. The Artist Layer- where much of the heavy lifting happens.For writing a program or UI application to be shared with other developers\n",
        "3. Scipting Layer- pyplot, as well as layer for everyday purposes. Considered a lighter scripting interface to simplify common tasks and for a quick and easy generation of graphics and plots."
      ]
    },
    {
      "cell_type": "markdown",
      "metadata": {
        "id": "rZZmVaVf_Esb",
        "colab_type": "text"
      },
      "source": [
        "<h4>The Back - End Layer:</h4>\n",
        "\n",
        "Has 3 built-in abstact interface classes:-\n",
        "1. FigureCanvas: matplotlib.backend_bases.FigureCanvas: encompasses the area on which the figure is drawn.\n",
        "2. Renderer: matplotlib.backend_bases.Renderer: knows how to draw on the figure canvas.\n",
        "3. Event: matplotlib.backend_bases.Event: handles user inputs such as keyboard strokes and mouse clicks"
      ]
    },
    {
      "cell_type": "markdown",
      "metadata": {
        "id": "dISthF7Z_lt0",
        "colab_type": "text"
      },
      "source": [
        "<h4>The Artist Layer:</h4>\n",
        "\n",
        "Comprised of One Main Object - Artist :-\n",
        "The Artist knows how to use the renderer to draw and put ink on the canvas.\n",
        "Everything we see in a matplotlib figure is an Artist instance.\n",
        "Titles, lines, tick labels and images all correspond to individual Artist instances.\n",
        "\n",
        "Types of Artist Objects:\n",
        "1. Primitive: Such as Line, Rectangle, Circles and Texts.\n",
        "2. Composite: Such as Axis, Ticks, Axes, and Figure"
      ]
    },
    {
      "cell_type": "markdown",
      "metadata": {
        "id": "xV0igiI6AD9-",
        "colab_type": "text"
      },
      "source": [
        "<h4><b>NOTE:</b></h4>\n",
        "\n",
        "1. The Top Level matplotlib object that contains and manages all of the elements in a given graphic is The FigureArtist.\n",
        "2. The most important composite artist is the Axes, because it is where most of the matplotlib API plotting methods are defined.\n",
        "Including methods to create or manipulate the ticks, the axis lines, the grid or the plot back ground.\n",
        "3. It's important to note that each composite artist may contain other composite artists as well as primitive artists"
      ]
    },
    {
      "cell_type": "code",
      "metadata": {
        "id": "sG0c2RrD-_DF",
        "colab_type": "code",
        "colab": {}
      },
      "source": [
        ""
      ],
      "execution_count": 0,
      "outputs": []
    }
  ]
}
