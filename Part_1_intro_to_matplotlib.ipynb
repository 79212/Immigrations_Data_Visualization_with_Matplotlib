{
  "nbformat": 4,
  "nbformat_minor": 0,
  "metadata": {
    "colab": {
      "name": "Part_1_intro_to_matplotlib.ipynb",
      "provenance": [],
      "collapsed_sections": [],
      "authorship_tag": "ABX9TyPSPPNf99q4pin015HlVwsb",
      "include_colab_link": true
    },
    "kernelspec": {
      "name": "python3",
      "display_name": "Python 3"
    }
  },
  "cells": [
    {
      "cell_type": "markdown",
      "metadata": {
        "id": "view-in-github",
        "colab_type": "text"
      },
      "source": [
        "<a href=\"https://colab.research.google.com/github/Lawrence-Krukrubo/Immigrations_Data_Visualization_with_Matplotlib/blob/master/Part_1_intro_to_matplotlib.ipynb\" target=\"_parent\"><img src=\"https://colab.research.google.com/assets/colab-badge.svg\" alt=\"Open In Colab\"/></a>"
      ]
    },
    {
      "cell_type": "code",
      "metadata": {
        "id": "z7azKVgL7vG2",
        "colab_type": "code",
        "colab": {
          "base_uri": "https://localhost:8080/",
          "height": 68
        },
        "outputId": "639a4ed7-dd26-41b4-9eed-78584086b7f1"
      },
      "source": [
        "%%html\n",
        "<marquee style='width: 60%;'><h2><b>The aim of Data Visualization is to analyse and communicate Data insights, In a more effective, attractive and impactive way</b></h2></marquee>"
      ],
      "execution_count": null,
      "outputs": [
        {
          "output_type": "display_data",
          "data": {
            "text/html": [
              "<marquee style='width: 60%;'><h2><b>The aim of Data Visualization is to analyse and communicate Data insights, In a more effective, attractive and impactive way</b></h2></marquee>"
            ],
            "text/plain": [
              "<IPython.core.display.HTML object>"
            ]
          },
          "metadata": {
            "tags": []
          }
        }
      ]
    },
    {
      "cell_type": "markdown",
      "metadata": {
        "id": "e5tLBhob-Y86",
        "colab_type": "text"
      },
      "source": [
        "<h1><b>Intro to Matplotlib</b></h1>"
      ]
    },
    {
      "cell_type": "markdown",
      "metadata": {
        "id": "PkELmpTX8knm",
        "colab_type": "text"
      },
      "source": [
        "<h2><b>Matplotlib History:</b></h2>\n",
        "\n",
        "Matplotlib is the most widely used if not the most popular data visualizing library in Python.\n",
        "It was created by John Hunter(1968 - 2012). Who was a neurobiologist and was part of a reseach Team that was analyzing electrocorticography(ECOG) signals.\n",
        "The Team was using a proprietary software for the analysis, however they only had one license, and so were taking turns in using it.\n",
        "So in order to overcome this limitation, john set out to replace this proprietary software with a MATLAB based version that could be utilized by him and his Team mates and that could be extended by multiple investigators.\n",
        "As a result, matplotlib was originally developed as an ECOG visualization tool. And just like MATLAB, matplotlib was equipped with a scripting interface quick and easy generation of graphics, represented by pyplot."
      ]
    },
    {
      "cell_type": "markdown",
      "metadata": {
        "id": "wJtT7A1t-r0z",
        "colab_type": "text"
      },
      "source": [
        "<h2><b>Matplotlib Architecture:</b></h2>\n",
        "This is composed of 3 main layers:-<br>\n",
        "\n",
        "1. The Back - End Layer- FigureCanvas, Renderer, Event.\n",
        "2. The Artist Layer- where much of the heavy lifting happens.For writing a program or UI application to be shared with other developers\n",
        "3. Scipting Layer- pyplot, as well as layer for everyday purposes. Considered a lighter scripting interface to simplify common tasks and for a quick and easy generation of graphics and plots."
      ]
    },
    {
      "cell_type": "markdown",
      "metadata": {
        "id": "rZZmVaVf_Esb",
        "colab_type": "text"
      },
      "source": [
        "<h3><b>The Back - End Layer:</b></h4>\n",
        "\n",
        "Has 3 built-in abstact interface classes:-\n",
        "1. FigureCanvas: matplotlib.backend_bases.FigureCanvas: encompasses the area on which the figure is drawn.\n",
        "2. Renderer: matplotlib.backend_bases.Renderer: knows how to draw on the figure canvas.\n",
        "3. Event: matplotlib.backend_bases.Event: handles user inputs such as keyboard strokes and mouse clicks"
      ]
    },
    {
      "cell_type": "markdown",
      "metadata": {
        "id": "dISthF7Z_lt0",
        "colab_type": "text"
      },
      "source": [
        "<h3><b>The Artist Layer:</b></h3>\n",
        "\n",
        "Comprised of One Main Object - Artist :-\n",
        "The Artist knows how to use the renderer to draw and put ink on the canvas.\n",
        "Everything we see in a matplotlib figure is an Artist instance.\n",
        "Titles, lines, tick labels and images all correspond to individual Artist instances.\n",
        "\n",
        "Types of Artist Objects:\n",
        "1. Primitive: Such as Line, Rectangle, Circles and Texts.\n",
        "2. Composite: Such as Axis, Ticks, Axes, and Figure"
      ]
    },
    {
      "cell_type": "markdown",
      "metadata": {
        "id": "xV0igiI6AD9-",
        "colab_type": "text"
      },
      "source": [
        "<h4><b>NOTE:</b></h4>\n",
        "\n",
        "1. The Top Level matplotlib object that contains and manages all of the elements in a given graphic is The FigureArtist.\n",
        "2. The most important composite artist is the Axes, because it is where most of the matplotlib API plotting methods are defined.\n",
        "Including methods to create or manipulate the ticks, the axis lines, the grid or the plot back ground.\n",
        "3. It's important to note that each composite artist may contain other composite artists as well as primitive artists. So a Figure artist for example may contain an axis artist as well as a rectangle or text artist"
      ]
    },
    {
      "cell_type": "markdown",
      "metadata": {
        "id": "DNjOPVgn74_k",
        "colab_type": "text"
      },
      "source": [
        "<h3><b>The Scripting Layer:</b></h3>\n",
        "\n",
        "The previous Artist layer is quite heavy on syntax and clearly for professional developers.\n",
        "Therefore the Scripting layer was developed for scientists who are not professional programmers.\n",
        "Clearly a lot of people prefer the Scripting Layer to the more syntax-heavy Artist layer, for quick analysis of some data.\n",
        "\n",
        "Matplotlib Scripting Layer is essentially the matplotlib.pyplot interface, which automates the process of defining a canvas, and defining a Figure Artist Instance and connecting them."
      ]
    },
    {
      "cell_type": "markdown",
      "metadata": {
        "id": "irz3VE228ohM",
        "colab_type": "text"
      },
      "source": [
        "<h4>Plotting with the Artist Layer:</h4>\n",
        "Let's make a histogram of 20,000 random numbers with the Artist layer. "
      ]
    },
    {
      "cell_type": "code",
      "metadata": {
        "id": "sG0c2RrD-_DF",
        "colab_type": "code",
        "colab": {}
      },
      "source": [
        "# Step One: first we import FigureCanvas\n",
        "from matplotlib.backends.backend_agg import FigureCanvasAgg as FigureCanvas\n",
        "\n",
        "# Note that agg stands for: Anti-Grain-Geometry, \n",
        "# which is a high performance library that produces attractive images. \n",
        "\n",
        "# Step two: Next, we import Figure Artist\n",
        "from matplotlib.figure import Figure\n",
        "\n",
        "# Step 3: Next we create a Figure object using the constructor\n",
        "fig = Figure()\n",
        "\n",
        "# Then we create a Canvas Object too using the constructor,\n",
        "# and pass our Artist object(fig) to it\n",
        "canvas = FigureCanvas(fig)"
      ],
      "execution_count": 1,
      "outputs": []
    },
    {
      "cell_type": "code",
      "metadata": {
        "id": "emoLOkXa9xal",
        "colab_type": "code",
        "colab": {
          "base_uri": "https://localhost:8080/",
          "height": 50
        },
        "outputId": "84df80ca-e9a8-4772-f4c7-0d4063e18f79"
      },
      "source": [
        "# next we create 10000 random numbers using numpy\n",
        "import numpy as np\n",
        "np.random.seed(6)\n",
        "x = np.random.randn(20000)\n",
        "\n",
        "# Let's see the first 10 numbers\n",
        "x[:10]"
      ],
      "execution_count": 4,
      "outputs": [
        {
          "output_type": "execute_result",
          "data": {
            "text/plain": [
              "array([-0.31178367,  0.72900392,  0.21782079, -0.8990918 , -2.48678065,\n",
              "        0.91325152,  1.12706373, -1.51409323,  1.63929108, -0.4298936 ])"
            ]
          },
          "metadata": {
            "tags": []
          },
          "execution_count": 4
        }
      ]
    },
    {
      "cell_type": "code",
      "metadata": {
        "id": "G8vOTxeD-EII",
        "colab_type": "code",
        "colab": {}
      },
      "source": [
        "# Next we create an Axes Artist\n",
        "ax = fig.add_subplot(111)\n",
        "\n",
        "# Note 111 follows matlab convention.\n",
        "# It creates a grid with one row, one column and uses the first cell in that grid as the location for the Axes\n",
        "\n",
        "# Next we call the axes method hist() to generate the histogram.\n",
        "ax.hist(x, 100)\n",
        "# Hist creates a sequence of rectangular Artists for each histogram bar and\n",
        "# adds them to the Axes container. The 100 above means generate 100 bins.\n",
        "\n",
        "# Finally we assign a title to the plot.\n",
        "ax.set_title('Artist Layer Histogram')\n",
        "\n",
        "# And we save it, in this case as a PNG file\n",
        "\n",
        "fig.savefig('Matplotlib_histogram.png')"
      ],
      "execution_count": 5,
      "outputs": []
    },
    {
      "cell_type": "markdown",
      "metadata": {
        "id": "WIhvxXfU_D67",
        "colab_type": "text"
      },
      "source": [
        "Let's see the image below:\n",
        "\n",
        "<img src='https://github.com/Lawrence-Krukrubo/Immigrations_Data_Visualization_with_Matplotlib/blob/master/Matplotlib_histogram%20(1).png?raw=true'>"
      ]
    },
    {
      "cell_type": "markdown",
      "metadata": {
        "id": "Cg6HY3kr_TfD",
        "colab_type": "text"
      },
      "source": [
        "<h4>Plotting with the Scripting Layer:</h4>\n",
        "Let's make a histogram of 20,000 random numbers with the Scripting layer."
      ]
    },
    {
      "cell_type": "code",
      "metadata": {
        "id": "w205i3hv_KyF",
        "colab_type": "code",
        "colab": {}
      },
      "source": [
        ""
      ],
      "execution_count": null,
      "outputs": []
    }
  ]
}